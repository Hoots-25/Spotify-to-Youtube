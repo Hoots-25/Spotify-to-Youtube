{
 "cells": [
  {
   "attachments": {},
   "cell_type": "markdown",
   "metadata": {},
   "source": [
    "### Install Dependencies"
   ]
  },
  {
   "cell_type": "code",
   "execution_count": null,
   "metadata": {},
   "outputs": [],
   "source": [
    "# pip install ytmusicapi"
   ]
  },
  {
   "cell_type": "code",
   "execution_count": null,
   "metadata": {},
   "outputs": [],
   "source": [
    "# pip install spotipy"
   ]
  },
  {
   "attachments": {},
   "cell_type": "markdown",
   "metadata": {},
   "source": [
    "### Import Dependencies"
   ]
  },
  {
   "cell_type": "code",
   "execution_count": 12,
   "metadata": {},
   "outputs": [],
   "source": [
    "# Basic\n",
    "import pandas as pd\n",
    "import numpy as np\n",
    "\n",
    "# YT Music API\n",
    "from ytmusicapi import YTMusic\n",
    "\n",
    "# Spotify API\n",
    "import spotipy\n",
    "from spotipy.oauth2 import SpotifyClientCredentials\n"
   ]
  },
  {
   "attachments": {},
   "cell_type": "markdown",
   "metadata": {},
   "source": [
    "### Terminal Command Prompts"
   ]
  },
  {
   "cell_type": "code",
   "execution_count": 2,
   "metadata": {},
   "outputs": [],
   "source": [
    "# Setup 'oauth.json' file for YT Music. Make sure ytmusicapi is installed on your env first\n",
    "# Documentation: https://ytmusicapi.readthedocs.io/en/stable/setup/oauth.html \n",
    "# ytmusicapi.setup(\"setup_oauth\")"
   ]
  },
  {
   "attachments": {},
   "cell_type": "markdown",
   "metadata": {},
   "source": [
    "### Spotify Playlist Pull"
   ]
  },
  {
   "attachments": {},
   "cell_type": "markdown",
   "metadata": {},
   "source": [
    "#### User Inputs"
   ]
  },
  {
   "cell_type": "code",
   "execution_count": 3,
   "metadata": {},
   "outputs": [],
   "source": [
    "client_id = \"\" # Input your spotify Client ID here\n",
    "secret_key = \"\" # Input your spotify API Secret Key Here\n",
    "\n",
    "playlist_link = \"\" # Input the link to the playlist you want to xfer"
   ]
  },
  {
   "attachments": {},
   "cell_type": "markdown",
   "metadata": {},
   "source": [
    "#### Grab Spotify Playlist Data"
   ]
  },
  {
   "cell_type": "code",
   "execution_count": 4,
   "metadata": {},
   "outputs": [],
   "source": [
    "# Authentication \n",
    "client_credentials_manager = SpotifyClientCredentials(client_id = client_id, client_secret = secret_key)\n",
    "sp = spotipy.Spotify(client_credentials_manager = client_credentials_manager)"
   ]
  },
  {
   "cell_type": "code",
   "execution_count": 5,
   "metadata": {},
   "outputs": [],
   "source": [
    "playlist_link = playlist_link\n",
    "playlist_URI = playlist_link.split(\"/\")[-1].split(\"?\")[0]\n",
    "track_uris = [x[\"track\"][\"uri\"] for x in sp.playlist_tracks(playlist_URI)[\"items\"]]"
   ]
  },
  {
   "attachments": {},
   "cell_type": "markdown",
   "metadata": {},
   "source": [
    "### Grab the Playlist Song Details"
   ]
  },
  {
   "cell_type": "code",
   "execution_count": 6,
   "metadata": {},
   "outputs": [],
   "source": [
    "uri_names = []\n",
    "track_names = []\n",
    "artist_names = []\n",
    "album_names = []\n",
    "\n",
    "for track in sp.playlist_tracks(playlist_URI)[\"items\"]:\n",
    "    \n",
    "    #URI\n",
    "    uri_names.append(track[\"track\"][\"uri\"])\n",
    "    \n",
    "    #Track name\n",
    "    track_names.append(track[\"track\"][\"name\"])\n",
    "    \n",
    "    #Name, popularity, genre\n",
    "    artist_names.append(track[\"track\"][\"artists\"][0][\"name\"])\n",
    "    \n",
    "    #Album\n",
    "    album_names.append(track[\"track\"][\"album\"][\"name\"])\n"
   ]
  },
  {
   "attachments": {},
   "cell_type": "markdown",
   "metadata": {},
   "source": [
    "#### Output CSV of Existing Playlist"
   ]
  },
  {
   "cell_type": "code",
   "execution_count": 7,
   "metadata": {},
   "outputs": [],
   "source": [
    "# Create Dictionary\n",
    "data = {'artist_names': artist_names,\n",
    "        'track_names': track_names,\n",
    "        'album_names': album_names,\n",
    "        'uri_names': uri_names}\n",
    "\n",
    "playlist_df = pd.DataFrame(data)\n",
    "\n",
    "# Save to a csv for later reference\n",
    "playlist_df.to_csv('spotify_playlist.csv')"
   ]
  },
  {
   "attachments": {},
   "cell_type": "markdown",
   "metadata": {},
   "source": [
    "### YT Music Playlist Create"
   ]
  },
  {
   "attachments": {},
   "cell_type": "markdown",
   "metadata": {},
   "source": [
    "#### User Inputs"
   ]
  },
  {
   "cell_type": "code",
   "execution_count": null,
   "metadata": {},
   "outputs": [],
   "source": [
    "playlist_title = '' # Title Name\n",
    "playlist_descr = '' # Description\n",
    "playlist_privacy = 'PRIVATE' # Can be PRIVATE, PUBLIC, or UNLISTED"
   ]
  },
  {
   "attachments": {},
   "cell_type": "markdown",
   "metadata": {},
   "source": [
    "#### Init YT Music with Authentification"
   ]
  },
  {
   "cell_type": "code",
   "execution_count": 9,
   "metadata": {},
   "outputs": [],
   "source": [
    "ytmusic = YTMusic(auth = \"oauth.json\")"
   ]
  },
  {
   "attachments": {},
   "cell_type": "markdown",
   "metadata": {},
   "source": [
    "#### Track Search - (Uses Song Title)"
   ]
  },
  {
   "cell_type": "code",
   "execution_count": 10,
   "metadata": {},
   "outputs": [
    {
     "name": "stdout",
     "output_type": "stream",
     "text": [
      "Aubade\n",
      "Proclamation\n",
      "The Tale of Taliesin\n",
      "Rhayader\n",
      "Outer Temple - Remastered 2018\n",
      "Neal And Jack And Me\n",
      "Eternity's Breath, Pt. 1\n",
      "Eternity's Breath, Pt. 2\n",
      "You Know, You Know (with John McLaughlin) - Remastered\n",
      "Out Of Season - (Live, Nottingham University, 1975) [2022 Remaster]\n",
      "Hazard Profile, Pt. 1 - 2022 Remaster\n",
      "Castle In The Clouds - Remastered 2018\n",
      "Outer Temple - Live At Club Arc En Ciel, Roanne, France / 1973\n",
      "Acidhead\n",
      "I Brake 4 Monster Booty\n",
      "Three of a Perfect Pair\n",
      "Meeting of the Spirits (with John McLaughlin) - Remastered\n",
      "Ban-Ban Caliban\n",
      "Chord Change\n",
      "Filthy Habits\n",
      "Nuclear Burn\n",
      "Wind Surf Ballad\n",
      "L'Univers De La Mer\n",
      "Überjam\n",
      "Unorthodox Behaviour - Live from Ronnie Scotts, 1976\n",
      "Don't Make Waves\n",
      "Hymn to Her\n",
      "Eat That Question\n",
      "The Divining Rod\n",
      "The Snake\n"
     ]
    }
   ],
   "source": [
    "video_ids = []\n",
    "tracks = track_names\n",
    "for track in tracks:\n",
    "    print(track)\n",
    "    id_pull = ytmusic.search(query = track, filter = 'songs', ignore_spelling = False)[0]['videoId']\n",
    "    video_ids.append(id_pull)\n"
   ]
  },
  {
   "attachments": {},
   "cell_type": "markdown",
   "metadata": {},
   "source": [
    "#### Create Playlist"
   ]
  },
  {
   "cell_type": "code",
   "execution_count": 11,
   "metadata": {},
   "outputs": [
    {
     "data": {
      "text/plain": [
       "'PLnXqV8-XVzAHqeo_o2xj0KONHewXFVHtW'"
      ]
     },
     "execution_count": 11,
     "metadata": {},
     "output_type": "execute_result"
    }
   ],
   "source": [
    "ytmusic.create_playlist(title = playlist_title, \n",
    "                        description = playlist_descr,\n",
    "                        privacy_status = playlist_privacy,\n",
    "                        video_ids = video_ids )"
   ]
  }
 ],
 "metadata": {
  "kernelspec": {
   "display_name": "Python 3",
   "language": "python",
   "name": "python3"
  },
  "language_info": {
   "codemirror_mode": {
    "name": "ipython",
    "version": 3
   },
   "file_extension": ".py",
   "mimetype": "text/x-python",
   "name": "python",
   "nbconvert_exporter": "python",
   "pygments_lexer": "ipython3",
   "version": "3.8.8"
  },
  "orig_nbformat": 4
 },
 "nbformat": 4,
 "nbformat_minor": 2
}
